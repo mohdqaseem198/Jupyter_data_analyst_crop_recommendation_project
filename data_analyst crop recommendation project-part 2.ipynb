{
 "cells": [
  {
   "cell_type": "code",
   "execution_count": 43,
   "id": "ec4e84db",
   "metadata": {},
   "outputs": [],
   "source": [
    "import pandas as pd\n",
    "import numpy as np\n",
    "import matplotlib.pyplot as plt"
   ]
  },
  {
   "cell_type": "code",
   "execution_count": 44,
   "id": "673117fb",
   "metadata": {},
   "outputs": [],
   "source": [
    "data=pd.read_csv(\"C:\\\\Users\\\\Qaseem Shahid\\\\Desktop\\\\data.csv\")"
   ]
  },
  {
   "cell_type": "code",
   "execution_count": 45,
   "id": "2d0aa960",
   "metadata": {},
   "outputs": [
    {
     "name": "stdout",
     "output_type": "stream",
     "text": [
      "(2200, 8)\n"
     ]
    }
   ],
   "source": [
    "# Question1: what is the shape of your data?\n",
    "print(data.shape)"
   ]
  },
  {
   "cell_type": "code",
   "execution_count": 46,
   "id": "77794ce1",
   "metadata": {},
   "outputs": [
    {
     "name": "stdout",
     "output_type": "stream",
     "text": [
      "    N   P   K  temperature   humidity        ph    rainfall label\n",
      "0  90  42  43    20.879744  82.002744  6.502985  202.935536  rice\n",
      "1  85  58  41    21.770462  80.319644  7.038096  226.655537  rice\n",
      "2  60  55  44    23.004459  82.320763  7.840207  263.964248  rice\n",
      "3  74  35  40    26.491096  80.158363  6.980401  242.864034  rice\n",
      "4  78  42  42    20.130175  81.604873  7.628473  262.717340  rice\n"
     ]
    }
   ],
   "source": [
    "# Question2: how is your dataset looks like, use head.\n",
    "print(data.head())"
   ]
  },
  {
   "cell_type": "code",
   "execution_count": 47,
   "id": "c32d1172",
   "metadata": {},
   "outputs": [
    {
     "name": "stdout",
     "output_type": "stream",
     "text": [
      "N              0\n",
      "P              0\n",
      "K              0\n",
      "temperature    0\n",
      "humidity       0\n",
      "ph             0\n",
      "rainfall       0\n",
      "label          0\n",
      "dtype: int64\n"
     ]
    }
   ],
   "source": [
    "# Question3: Do your dataset has any null value? if yes then resolve it with fillna and replace function.\n",
    "print(data.isnull().sum())"
   ]
  },
  {
   "cell_type": "code",
   "execution_count": 48,
   "id": "31af1ccc",
   "metadata": {},
   "outputs": [
    {
     "data": {
      "text/plain": [
       "rice           100\n",
       "maize          100\n",
       "jute           100\n",
       "cotton         100\n",
       "coconut        100\n",
       "papaya         100\n",
       "orange         100\n",
       "apple          100\n",
       "muskmelon      100\n",
       "watermelon     100\n",
       "grapes         100\n",
       "mango          100\n",
       "banana         100\n",
       "pomegranate    100\n",
       "lentil         100\n",
       "blackgram      100\n",
       "mungbean       100\n",
       "mothbeans      100\n",
       "pigeonpeas     100\n",
       "kidneybeans    100\n",
       "chickpea       100\n",
       "coffee         100\n",
       "Name: label, dtype: int64"
      ]
     },
     "execution_count": 48,
     "metadata": {},
     "output_type": "execute_result"
    }
   ],
   "source": [
    "# Question4: there are how many crops? & how long data is given for each crop?\n",
    "data[\"label\"].value_counts()"
   ]
  },
  {
   "cell_type": "code",
   "execution_count": 49,
   "id": "6ab96fc5",
   "metadata": {},
   "outputs": [
    {
     "name": "stdout",
     "output_type": "stream",
     "text": [
      "average  Nitrogen is :  50.55\n",
      "average  Phosphorous is :  53.36\n",
      "average  potacium(k) is :  48.15\n",
      "average  TEMPERATURE is :  25.62\n",
      "average  HUMIDITY is :  71.48\n",
      "average  PH is :  6.47\n",
      "average  RAINFALL is :  103.47\n"
     ]
    }
   ],
   "source": [
    "# Question5: Make a function which gives mean() value of each crop.\n",
    "# summery of all the crops\n",
    "# a,b\n",
    "a=[\"Nitrogen\",\"Phosphorous\",\"potacium(k)\",\"TEMPERATURE\",\"HUMIDITY\",\"PH\",\"RAINFALL\"]\n",
    "\n",
    "b=0\n",
    "\n",
    "column=[data[\"N\"],data[\"P\"],data[\"K\"],data[\"temperature\"],data[\"humidity\"],data[\"ph\"],data[\"rainfall\"]]\n",
    "for i in column:\n",
    "    \n",
    "    print(\"average \",a[b], \"is : \",round(i.mean(),2))\n",
    "    b=b+1\n",
    "# print(\"average Nitrogen is :\",round(data[\"N\"].mean(),2))"
   ]
  },
  {
   "cell_type": "code",
   "execution_count": 50,
   "id": "98111e9f",
   "metadata": {},
   "outputs": [
    {
     "data": {
      "application/vnd.jupyter.widget-view+json": {
       "model_id": "aff3cb4345f04adaa301e186eeb69088",
       "version_major": 2,
       "version_minor": 0
      },
      "text/plain": [
       "interactive(children=(Dropdown(description='crops', options=('rice', 'maize', 'jute', 'cotton', 'coconut', 'pa…"
      ]
     },
     "metadata": {},
     "output_type": "display_data"
    }
   ],
   "source": [
    "# Question6: Make a function that asks user about selecting a crop and returns min,mean,max ingredient values required for growth of that specific crop.\n",
    "# summary statistics for each crop\n",
    "# x,col,j\n",
    "from ipywidgets import interact\n",
    "@interact\n",
    "def summary(crops=list(data[\"label\"].value_counts().index)):\n",
    "    x=data[data[\"label\"]==crops]\n",
    "    col=[\"N\",\"P\",\"K\",\"temperature\",\"humidity\",\"ph\",\"rainfall\"]\n",
    "    for j in col:\n",
    "        print(j , \"required for \",crops , \"is\")\n",
    "        print(\"max \",j, \"is: \",x[j].max())\n",
    "        print(\"average \",j, \"is: \",x[j].mean())\n",
    "        print(\"min \",j, \"is: \",x[j].min())\n",
    "        print(\"\\n\",\".........\")"
   ]
  },
  {
   "cell_type": "code",
   "execution_count": 51,
   "id": "184d3de1",
   "metadata": {},
   "outputs": [
    {
     "data": {
      "application/vnd.jupyter.widget-view+json": {
       "model_id": "b512321940ef46308f334400e929d8b8",
       "version_major": 2,
       "version_minor": 0
      },
      "text/plain": [
       "interactive(children=(Dropdown(description='col', options=('N', 'P', 'K', 'temperature', 'humidity', 'ph', 'ra…"
      ]
     },
     "metadata": {},
     "output_type": "display_data"
    }
   ],
   "source": [
    "# Question7: Make a function that asks user to select ingredient in return, which gives its average value and also compare with each crop value.\n",
    "# comparing the average requirements of each crop with each average condition\n",
    "# \n",
    "from ipywidgets import interact\n",
    "@interact\n",
    "\n",
    "def compare(col=[\"N\",\"P\",\"K\",\"temperature\",\"humidity\",\"ph\",\"rainfall\"]):\n",
    "    lb=data[\"label\"].value_counts().index\n",
    "    print(\"average \",col , \"is\",round(data[col].mean(),2))\n",
    "    print(\"...........\")\n",
    "    x=0\n",
    "    \n",
    "    for k in lb:\n",
    "        print(\"while average for\",lb[x] , \"is :\",\"\\n\",data[data[\"label\"]==lb[x]][col].mean())\n",
    "        print(\"------------\")\n",
    "        x=x+1"
   ]
  },
  {
   "cell_type": "code",
   "execution_count": 52,
   "id": "4bbdb704",
   "metadata": {},
   "outputs": [
    {
     "data": {
      "application/vnd.jupyter.widget-view+json": {
       "model_id": "eb41f981ff07465cb1565b980fefeff9",
       "version_major": 2,
       "version_minor": 0
      },
      "text/plain": [
       "interactive(children=(Dropdown(description='condition', options=('N', 'P', 'K', 'temperature', 'humidity', 'ph…"
      ]
     },
     "metadata": {},
     "output_type": "display_data"
    }
   ],
   "source": [
    "# Question8: Make a function which returns name of the crop which requires ingredients more than its average value. let user choose the name of ingredient.\n",
    "# making this function more interactive\n",
    "@interact\n",
    "def compare(condition=[\"N\",\"P\",\"K\",\"temperature\",\"humidity\",\"ph\",\"rainfall\"]):\n",
    "    \n",
    "    print(\"crops in which \",condition,\" is greather than its average value \\n\",data[data[condition]>data[condition].mean()][\"label\"].unique(),\"\\n\")\n",
    "    \n",
    "    print(\"crops in which \",condition,\" is less than its average value \\n\",data[data[condition]<=data[condition].mean()][\"label\"].unique(),\"\\n\")"
   ]
  },
  {
   "cell_type": "code",
   "execution_count": 53,
   "id": "023ec6d2",
   "metadata": {},
   "outputs": [
    {
     "name": "stderr",
     "output_type": "stream",
     "text": [
      "C:\\Users\\Qaseem Shahid\\anaconda3\\lib\\site-packages\\seaborn\\distributions.py:2619: FutureWarning: `distplot` is a deprecated function and will be removed in a future version. Please adapt your code to use either `displot` (a figure-level function with similar flexibility) or `histplot` (an axes-level function for histograms).\n",
      "  warnings.warn(msg, FutureWarning)\n",
      "C:\\Users\\Qaseem Shahid\\anaconda3\\lib\\site-packages\\seaborn\\distributions.py:2619: FutureWarning: `distplot` is a deprecated function and will be removed in a future version. Please adapt your code to use either `displot` (a figure-level function with similar flexibility) or `histplot` (an axes-level function for histograms).\n",
      "  warnings.warn(msg, FutureWarning)\n",
      "C:\\Users\\Qaseem Shahid\\anaconda3\\lib\\site-packages\\seaborn\\distributions.py:2619: FutureWarning: `distplot` is a deprecated function and will be removed in a future version. Please adapt your code to use either `displot` (a figure-level function with similar flexibility) or `histplot` (an axes-level function for histograms).\n",
      "  warnings.warn(msg, FutureWarning)\n",
      "C:\\Users\\Qaseem Shahid\\anaconda3\\lib\\site-packages\\seaborn\\distributions.py:2619: FutureWarning: `distplot` is a deprecated function and will be removed in a future version. Please adapt your code to use either `displot` (a figure-level function with similar flexibility) or `histplot` (an axes-level function for histograms).\n",
      "  warnings.warn(msg, FutureWarning)\n",
      "C:\\Users\\Qaseem Shahid\\anaconda3\\lib\\site-packages\\seaborn\\distributions.py:2619: FutureWarning: `distplot` is a deprecated function and will be removed in a future version. Please adapt your code to use either `displot` (a figure-level function with similar flexibility) or `histplot` (an axes-level function for histograms).\n",
      "  warnings.warn(msg, FutureWarning)\n",
      "C:\\Users\\Qaseem Shahid\\anaconda3\\lib\\site-packages\\seaborn\\distributions.py:2619: FutureWarning: `distplot` is a deprecated function and will be removed in a future version. Please adapt your code to use either `displot` (a figure-level function with similar flexibility) or `histplot` (an axes-level function for histograms).\n",
      "  warnings.warn(msg, FutureWarning)\n",
      "C:\\Users\\Qaseem Shahid\\anaconda3\\lib\\site-packages\\seaborn\\distributions.py:2619: FutureWarning: `distplot` is a deprecated function and will be removed in a future version. Please adapt your code to use either `displot` (a figure-level function with similar flexibility) or `histplot` (an axes-level function for histograms).\n",
      "  warnings.warn(msg, FutureWarning)\n"
     ]
    },
    {
     "data": {
      "text/plain": [
       "<AxesSubplot:xlabel='rainfall', ylabel='Density'>"
      ]
     },
     "execution_count": 53,
     "metadata": {},
     "output_type": "execute_result"
    },
    {
     "data": {
      "image/png": "[encoded data removed]",
      "text/plain": [
       "<Figure size 432x288 with 7 Axes>"
      ]
     },
     "metadata": {
      "needs_background": "light"
     },
     "output_type": "display_data"
    }
   ],
   "source": [
    "# Question9: Make distrubution graph for each ingredient.\n",
    "# making some distribution plots\n",
    "import seaborn as sns\n",
    "\n",
    "plt.subplot(2,4,1)\n",
    "sns.distplot(data[\"N\"])\n",
    "\n",
    "plt.subplot(2,4,2)\n",
    "sns.distplot(data[\"P\"])\n",
    "\n",
    "plt.subplot(2,4,3)\n",
    "sns.distplot(data[\"K\"])\n",
    "\n",
    "plt.subplot(2,4,4)\n",
    "sns.distplot(data[\"temperature\"])\n",
    "\n",
    "plt.subplot(2,4,5)\n",
    "sns.distplot(data[\"humidity\"])\n",
    "\n",
    "plt.subplot(2,4,6)\n",
    "sns.distplot(data[\"ph\"])\n",
    "\n",
    "plt.subplot(2,4,7)\n",
    "sns.distplot(data[\"rainfall\"])\n"
   ]
  },
  {
   "cell_type": "code",
   "execution_count": 54,
   "id": "b6b7ae42",
   "metadata": {},
   "outputs": [
    {
     "name": "stdout",
     "output_type": "stream",
     "text": [
      "crops which requires extraordinary climatic conditions\n",
      "\n",
      "crops which requires Nitrogen greater than 120 are :  ['cotton'] \n",
      "\n",
      "crops which requires Phasporous greater than 100 are :  ['grapes' 'apple'] \n",
      "\n",
      "crops which requires Potassium greater than 200 are :  ['grapes' 'apple'] \n",
      "\n",
      "crops which requires rainfall greater than 200 are :  ['rice' 'papaya' 'coconut'] \n",
      "\n",
      "crops which requires temperature less than 10 are :  ['grapes']\n",
      "crops which requires temperature greater than 40 are :  ['grapes' 'papaya'] \n",
      "\n",
      "crops which requires humidity less than 20 are :  ['chickpea' 'kidneybeans'] \n",
      "\n",
      "crops which requires ph less than 4 are :  ['mothbeans']\n",
      "crops which requires ph greater than 9 are :  ['mothbeans']\n"
     ]
    }
   ],
   "source": [
    "# Question10: separate the crops which requires N>120,P>100,K>200,rainfall>200,temperature<10,temperature>40,humidity<20,ph<4 and ph>9.\n",
    "# some interesting facts about given crops dataset\n",
    "print(\"crops which requires extraordinary climatic conditions\\n\")\n",
    "print(\"crops which requires Nitrogen greater than 120 are : \",data[data[\"N\"]>120][\"label\"].unique(),\"\\n\")\n",
    "\n",
    "print(\"crops which requires Phasporous greater than 100 are : \",data[data[\"P\"]>100][\"label\"].unique(),\"\\n\")\n",
    "\n",
    "print(\"crops which requires Potassium greater than 200 are : \",data[data[\"K\"]>200][\"label\"].unique(),\"\\n\")\n",
    "\n",
    "print(\"crops which requires rainfall greater than 200 are : \",data[data[\"rainfall\"]>200][\"label\"].unique(),\"\\n\")\n",
    "\n",
    "print(\"crops which requires temperature less than 10 are : \",data[data[\"temperature\"]<=10][\"label\"].unique())\n",
    "print(\"crops which requires temperature greater than 40 are : \",data[data[\"temperature\"]>40][\"label\"].unique(),\"\\n\")\n",
    "\n",
    "print(\"crops which requires humidity less than 20 are : \",data[data[\"humidity\"]<20][\"label\"].unique(),\"\\n\")\n",
    "\n",
    "print(\"crops which requires ph less than 4 are : \",data[data[\"ph\"]<4][\"label\"].unique())\n",
    "print(\"crops which requires ph greater than 9 are : \",data[data[\"ph\"]>9][\"label\"].unique())"
   ]
  },
  {
   "cell_type": "code",
   "execution_count": 55,
   "id": "88b454eb",
   "metadata": {},
   "outputs": [
    {
     "data": {
      "application/vnd.jupyter.widget-view+json": {
       "model_id": "6f284bf639084179beb041418370ebc4",
       "version_major": 2,
       "version_minor": 0
      },
      "text/plain": [
       "interactive(children=(Dropdown(description='s', options=('summer season', 'winter season', 'rainy season'), va…"
      ]
     },
     "metadata": {},
     "output_type": "display_data"
    }
   ],
   "source": [
    "# Question11: Make a function through which user can know that which crop is good for which season?\n",
    "# let's classify which crops should grown in summer, winter and rainy seasons\n",
    "@interact\n",
    "def season(s=[\"summer season\",\"winter season\",\"rainy season\"]):\n",
    "    if s==\"summer season\":\n",
    "        print(\"summer crops are : \\n\",data[(data[\"temperature\"]>30) & (data[\"humidity\"]>50)][\"label\"].unique(),\"\\n\")\n",
    "    elif s==\"winter season\":\n",
    "        print(\"winter crops are : \\n\",data[(data[\"temperature\"]<20) & (data[\"humidity\"]>30)][\"label\"].unique(),\"\\n\")\n",
    "    elif s==\"rainy season\":\n",
    "        print(\"rainy crops are : \\n\",data[(data[\"rainfall\"]>200) & (data[\"humidity\"]>30)][\"label\"].unique(),\"\\n\")"
   ]
  },
  {
   "cell_type": "code",
   "execution_count": 56,
   "id": "c3148f0e",
   "metadata": {},
   "outputs": [
    {
     "name": "stdout",
     "output_type": "stream",
     "text": [
      "(2200, 7)\n"
     ]
    }
   ],
   "source": [
    "# Question12: can you delete column(label) from the dataset?\n",
    "x=data.drop([\"label\"],axis=1)\n",
    "\n",
    "print(x.shape)"
   ]
  },
  {
   "cell_type": "code",
   "execution_count": null,
   "id": "d7f8b96b",
   "metadata": {},
   "outputs": [],
   "source": []
  },
  {
   "cell_type": "code",
   "execution_count": null,
   "id": "b01eb9d2",
   "metadata": {},
   "outputs": [],
   "source": []
  }
 ],
 "metadata": {
  "kernelspec": {
   "display_name": "Python 3 (ipykernel)",
   "language": "python",
   "name": "python3"
  },
  "language_info": {
   "codemirror_mode": {
    "name": "ipython",
    "version": 3
   },
   "file_extension": ".py",
   "mimetype": "text/x-python",
   "name": "python",
   "nbconvert_exporter": "python",
   "pygments_lexer": "ipython3",
   "version": "3.9.7"
  }
 },
 "nbformat": 4,
 "nbformat_minor": 5
}
